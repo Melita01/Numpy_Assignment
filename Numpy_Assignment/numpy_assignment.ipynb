{
 "cells": [
  {
   "cell_type": "code",
   "execution_count": 6,
   "metadata": {},
   "outputs": [],
   "source": [
    "import numpy as np"
   ]
  },
  {
   "cell_type": "code",
   "execution_count": 76,
   "metadata": {},
   "outputs": [
    {
     "name": "stdout",
     "output_type": "stream",
     "text": [
      "Mean: 166.70, Median: 166.5, Standard Deviation: 7.54\n"
     ]
    }
   ],
   "source": [
    "# Dataset\n",
    "heights = np.array([160, 155, 172, 165, 180, 158, 175, 163, 171, 168])\n",
    "\n",
    "# 1. Calculate the mean, median, and standard deviation of the students' heights\n",
    "mean_heights = np.mean(heights)\n",
    "median_heights = np.median(heights)\n",
    "std_dev_heights = np.std(heights)\n",
    "\n",
    "print(f\"Mean: {mean_heights:.2f}, Median: {median_heights}, Standard Deviation: {std_dev_heights:.2f}\")"
   ]
  },
  {
   "cell_type": "code",
   "execution_count": 77,
   "metadata": {},
   "outputs": [
    {
     "name": "stdout",
     "output_type": "stream",
     "text": [
      "Normalized Heights: [-0.88891945 -1.55229217  0.70317509 -0.22554673  1.76457144 -1.15426854\n",
      "  1.10119872 -0.49089581  0.57050054  0.17247691]\n"
     ]
    }
   ],
   "source": [
    "# 2. Create a new array with the heights normalized\n",
    "normalized_heights = (heights - mean_heights) / std_dev_heights\n",
    "print(\"Normalized Heights:\", normalized_heights)\n"
   ]
  },
  {
   "cell_type": "code",
   "execution_count": 78,
   "metadata": {},
   "outputs": [
    {
     "name": "stdout",
     "output_type": "stream",
     "text": [
      "Tallest student index: 4, Shortest student index: 1\n"
     ]
    }
   ],
   "source": [
    "# 3. Determine the tallest and shortest students in the class\n",
    "tallest_student_idx = np.argmax(heights)\n",
    "shortest_student_idx = np.argmin(heights)\n",
    "print(f\"Tallest student index: {tallest_student_idx}, Shortest student index: {shortest_student_idx}\")\n"
   ]
  },
  {
   "cell_type": "code",
   "execution_count": 79,
   "metadata": {},
   "outputs": [
    {
     "name": "stdout",
     "output_type": "stream",
     "text": [
      "Height difference: 25 cm\n"
     ]
    }
   ],
   "source": [
    "# 4. Calculate the difference between the tallest and shortest students' heights\n",
    "height_diff = heights[tallest_student_idx] - heights[shortest_student_idx]\n",
    "print(f\"Height difference: {height_diff} cm\")\n"
   ]
  },
  {
   "cell_type": "code",
   "execution_count": 80,
   "metadata": {},
   "outputs": [
    {
     "name": "stdout",
     "output_type": "stream",
     "text": [
      "Randomly selected heights: [171 155 158 160 163]\n"
     ]
    }
   ],
   "source": [
    "# 5. Randomly select 5 heights from the dataset without replacement\n",
    "np.random.seed(42)  # Optional: for reproducibility\n",
    "random_selection = np.random.choice(heights, size=5, replace=False)\n",
    "print(\"Randomly selected heights:\", random_selection)"
   ]
  }
 ],
 "metadata": {
  "kernelspec": {
   "display_name": "base",
   "language": "python",
   "name": "python3"
  },
  "language_info": {
   "codemirror_mode": {
    "name": "ipython",
    "version": 3
   },
   "file_extension": ".py",
   "mimetype": "text/x-python",
   "name": "python",
   "nbconvert_exporter": "python",
   "pygments_lexer": "ipython3",
   "version": "3.11.4"
  }
 },
 "nbformat": 4,
 "nbformat_minor": 2
}
